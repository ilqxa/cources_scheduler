{
 "cells": [
  {
   "cell_type": "code",
   "execution_count": 1,
   "metadata": {},
   "outputs": [],
   "source": [
    "import sys\n",
    "import os\n",
    "\n",
    "sys.path.append(os.path.abspath(os.path.join(os.getcwd(), \"../src\")))"
   ]
  },
  {
   "cell_type": "code",
   "execution_count": 2,
   "metadata": {},
   "outputs": [],
   "source": [
    "import pandas as pd"
   ]
  },
  {
   "cell_type": "code",
   "execution_count": 3,
   "metadata": {},
   "outputs": [],
   "source": [
    "from courses_scheduler.planning import AcademicPlan\n",
    "from courses_scheduler.combinations import OptionsSet\n",
    "from courses_scheduler.objects import (\n",
    "    AcademicDiscipline,\n",
    "    Classroom,\n",
    "    Students,\n",
    "    Teacher,\n",
    "    TimeSlot,\n",
    ")"
   ]
  },
  {
   "cell_type": "markdown",
   "metadata": {},
   "source": [
    "# Подготовка"
   ]
  },
  {
   "cell_type": "code",
   "execution_count": 4,
   "metadata": {},
   "outputs": [],
   "source": [
    "def make_df(options: OptionsSet, choosen_idx: list[int]) -> pd.DataFrame:\n",
    "    columns = [\"time_slot\", \"students\", \"teacher\", \"classroom\", \"discipline\"]\n",
    "    res = []\n",
    "    for i, (ts, s, t, c, d) in enumerate(options):\n",
    "        if i in choosen_idx:\n",
    "            res.append((\n",
    "                ts.__repr__(),\n",
    "                s.__repr__(),\n",
    "                t.__repr__(),\n",
    "                c.__repr__(),\n",
    "                d.__repr__(),\n",
    "            ))\n",
    "    return pd.DataFrame(res, columns=columns)"
   ]
  },
  {
   "cell_type": "code",
   "execution_count": 5,
   "metadata": {},
   "outputs": [],
   "source": [
    "s = {\n",
    "    k: Students(group_id=k)\n",
    "    for k in \"ABCDEFG\"\n",
    "}"
   ]
  },
  {
   "cell_type": "code",
   "execution_count": 6,
   "metadata": {},
   "outputs": [],
   "source": [
    "t = {\n",
    "    k: Teacher(name=k)\n",
    "    for k in \"ABCDEFG\"\n",
    "}"
   ]
  },
  {
   "cell_type": "code",
   "execution_count": 7,
   "metadata": {},
   "outputs": [],
   "source": [
    "c = {\n",
    "    k: Classroom(room_number=str(k))\n",
    "    for k in range(20)\n",
    "}"
   ]
  },
  {
   "cell_type": "code",
   "execution_count": 8,
   "metadata": {},
   "outputs": [],
   "source": [
    "d = {\n",
    "    k: AcademicDiscipline(title=k)\n",
    "    for k in \"ABCDEFG\"\n",
    "}"
   ]
  },
  {
   "cell_type": "code",
   "execution_count": 9,
   "metadata": {},
   "outputs": [],
   "source": [
    "ts = {\n",
    "    k: TimeSlot(date_from=k)\n",
    "    for k in range(20)\n",
    "}"
   ]
  },
  {
   "cell_type": "markdown",
   "metadata": {},
   "source": [
    "# Простейший сценарий"
   ]
  },
  {
   "cell_type": "code",
   "execution_count": 10,
   "metadata": {},
   "outputs": [
    {
     "name": "stderr",
     "output_type": "stream",
     "text": [
      "\u001b[32m2024-09-21 21:03:18.618\u001b[0m | \u001b[1mINFO    \u001b[0m | \u001b[36mcourses_scheduler.planning\u001b[0m:\u001b[36mbuild_optimizer\u001b[0m:\u001b[36m71\u001b[0m - \u001b[1mStart building optimizer\u001b[0m\n",
      "\u001b[32m2024-09-21 21:03:18.619\u001b[0m | \u001b[1mINFO    \u001b[0m | \u001b[36mcourses_scheduler.planning\u001b[0m:\u001b[36mbuild_options\u001b[0m:\u001b[36m51\u001b[0m - \u001b[1mStart building options\u001b[0m\n",
      "100%|██████████| 1/1 [00:00<00:00, 15141.89it/s]\n",
      "\u001b[32m2024-09-21 21:03:18.624\u001b[0m | \u001b[1mINFO    \u001b[0m | \u001b[36mcourses_scheduler.optimization\u001b[0m:\u001b[36m__init__\u001b[0m:\u001b[36m34\u001b[0m - \u001b[1mStart declaring optimized vars\u001b[0m\n",
      "40it [00:00, 47976.03it/s]\n",
      "\u001b[32m2024-09-21 21:03:18.627\u001b[0m | \u001b[1mINFO    \u001b[0m | \u001b[36mcourses_scheduler.optimization\u001b[0m:\u001b[36m__init__\u001b[0m:\u001b[36m46\u001b[0m - \u001b[1mStart declaring students_discipline equations\u001b[0m\n",
      "100%|██████████| 1/1 [00:00<00:00, 5983.32it/s]\n",
      "\u001b[32m2024-09-21 21:03:18.629\u001b[0m | \u001b[1mINFO    \u001b[0m | \u001b[36mcourses_scheduler.optimization\u001b[0m:\u001b[36m__init__\u001b[0m:\u001b[36m62\u001b[0m - \u001b[1mStart declaring teacher_discipline equations\u001b[0m\n",
      "100%|██████████| 1/1 [00:00<00:00, 3048.19it/s]\n"
     ]
    }
   ],
   "source": [
    "ap = AcademicPlan(\n",
    "    students_workload={s[\"A\"]: {d[\"A\"]: 1}},\n",
    "    teachers_workload={t[\"A\"]: {d[\"A\"]: 1}},\n",
    "    available_classrooms={c[1], c[2]},\n",
    "    available_time_slots=ts.values(),\n",
    ")\n",
    "\n",
    "ap.optimizer.model.solve(disp=False)"
   ]
  },
  {
   "cell_type": "code",
   "execution_count": 11,
   "metadata": {},
   "outputs": [
    {
     "data": {
      "text/html": [
       "<div>\n",
       "<style scoped>\n",
       "    .dataframe tbody tr th:only-of-type {\n",
       "        vertical-align: middle;\n",
       "    }\n",
       "\n",
       "    .dataframe tbody tr th {\n",
       "        vertical-align: top;\n",
       "    }\n",
       "\n",
       "    .dataframe thead th {\n",
       "        text-align: right;\n",
       "    }\n",
       "</style>\n",
       "<table border=\"1\" class=\"dataframe\">\n",
       "  <thead>\n",
       "    <tr style=\"text-align: right;\">\n",
       "      <th></th>\n",
       "      <th>time_slot</th>\n",
       "      <th>students</th>\n",
       "      <th>teacher</th>\n",
       "      <th>classroom</th>\n",
       "      <th>discipline</th>\n",
       "    </tr>\n",
       "  </thead>\n",
       "  <tbody>\n",
       "    <tr>\n",
       "      <th>0</th>\n",
       "      <td>0</td>\n",
       "      <td>A</td>\n",
       "      <td>A</td>\n",
       "      <td>2</td>\n",
       "      <td>A</td>\n",
       "    </tr>\n",
       "  </tbody>\n",
       "</table>\n",
       "</div>"
      ],
      "text/plain": [
       "  time_slot students teacher classroom discipline\n",
       "0         0        A       A         2          A"
      ]
     },
     "execution_count": 11,
     "metadata": {},
     "output_type": "execute_result"
    }
   ],
   "source": [
    "df = make_df(ap.optimizer.options, ap.optimizer.choosen_options_idx)\n",
    "df.head()"
   ]
  },
  {
   "cell_type": "markdown",
   "metadata": {},
   "source": [
    "# Несколько учебных групп"
   ]
  },
  {
   "cell_type": "code",
   "execution_count": 12,
   "metadata": {},
   "outputs": [
    {
     "name": "stderr",
     "output_type": "stream",
     "text": [
      "\u001b[32m2024-09-21 21:03:18.707\u001b[0m | \u001b[1mINFO    \u001b[0m | \u001b[36mcourses_scheduler.planning\u001b[0m:\u001b[36mbuild_optimizer\u001b[0m:\u001b[36m71\u001b[0m - \u001b[1mStart building optimizer\u001b[0m\n",
      "\u001b[32m2024-09-21 21:03:18.708\u001b[0m | \u001b[1mINFO    \u001b[0m | \u001b[36mcourses_scheduler.planning\u001b[0m:\u001b[36mbuild_options\u001b[0m:\u001b[36m51\u001b[0m - \u001b[1mStart building options\u001b[0m\n",
      "100%|██████████| 1/1 [00:00<00:00, 13486.51it/s]\n",
      "\u001b[32m2024-09-21 21:03:18.710\u001b[0m | \u001b[1mINFO    \u001b[0m | \u001b[36mcourses_scheduler.optimization\u001b[0m:\u001b[36m__init__\u001b[0m:\u001b[36m34\u001b[0m - \u001b[1mStart declaring optimized vars\u001b[0m\n",
      "80it [00:00, 113168.40it/s]\n",
      "\u001b[32m2024-09-21 21:03:18.712\u001b[0m | \u001b[1mINFO    \u001b[0m | \u001b[36mcourses_scheduler.optimization\u001b[0m:\u001b[36m__init__\u001b[0m:\u001b[36m46\u001b[0m - \u001b[1mStart declaring students_discipline equations\u001b[0m\n",
      "100%|██████████| 2/2 [00:00<00:00, 8346.87it/s]\n",
      "\u001b[32m2024-09-21 21:03:18.713\u001b[0m | \u001b[1mINFO    \u001b[0m | \u001b[36mcourses_scheduler.optimization\u001b[0m:\u001b[36m__init__\u001b[0m:\u001b[36m62\u001b[0m - \u001b[1mStart declaring teacher_discipline equations\u001b[0m\n",
      "100%|██████████| 1/1 [00:00<00:00, 5825.42it/s]\n"
     ]
    }
   ],
   "source": [
    "ap = AcademicPlan(\n",
    "    students_workload={s[\"A\"]: {d[\"A\"]: 1}, s[\"B\"]: {d[\"A\"]: 1}},\n",
    "    teachers_workload={t[\"A\"]: {d[\"A\"]: 2}},\n",
    "    available_classrooms={c[1], c[2]},\n",
    "    available_time_slots=ts.values(),\n",
    ")\n",
    "\n",
    "ap.optimizer.model.solve(disp=False)"
   ]
  },
  {
   "cell_type": "code",
   "execution_count": 13,
   "metadata": {},
   "outputs": [
    {
     "data": {
      "text/html": [
       "<div>\n",
       "<style scoped>\n",
       "    .dataframe tbody tr th:only-of-type {\n",
       "        vertical-align: middle;\n",
       "    }\n",
       "\n",
       "    .dataframe tbody tr th {\n",
       "        vertical-align: top;\n",
       "    }\n",
       "\n",
       "    .dataframe thead th {\n",
       "        text-align: right;\n",
       "    }\n",
       "</style>\n",
       "<table border=\"1\" class=\"dataframe\">\n",
       "  <thead>\n",
       "    <tr style=\"text-align: right;\">\n",
       "      <th></th>\n",
       "      <th>time_slot</th>\n",
       "      <th>students</th>\n",
       "      <th>teacher</th>\n",
       "      <th>classroom</th>\n",
       "      <th>discipline</th>\n",
       "    </tr>\n",
       "  </thead>\n",
       "  <tbody>\n",
       "    <tr>\n",
       "      <th>0</th>\n",
       "      <td>0</td>\n",
       "      <td>A</td>\n",
       "      <td>A</td>\n",
       "      <td>2</td>\n",
       "      <td>A</td>\n",
       "    </tr>\n",
       "    <tr>\n",
       "      <th>1</th>\n",
       "      <td>0</td>\n",
       "      <td>B</td>\n",
       "      <td>A</td>\n",
       "      <td>2</td>\n",
       "      <td>A</td>\n",
       "    </tr>\n",
       "  </tbody>\n",
       "</table>\n",
       "</div>"
      ],
      "text/plain": [
       "  time_slot students teacher classroom discipline\n",
       "0         0        A       A         2          A\n",
       "1         0        B       A         2          A"
      ]
     },
     "execution_count": 13,
     "metadata": {},
     "output_type": "execute_result"
    }
   ],
   "source": [
    "df = make_df(ap.optimizer.options, ap.optimizer.choosen_options_idx)\n",
    "df.head()"
   ]
  },
  {
   "cell_type": "markdown",
   "metadata": {},
   "source": [
    "# Несколько преподавателей"
   ]
  },
  {
   "cell_type": "code",
   "execution_count": 14,
   "metadata": {},
   "outputs": [
    {
     "name": "stderr",
     "output_type": "stream",
     "text": [
      "\u001b[32m2024-09-21 21:03:18.815\u001b[0m | \u001b[1mINFO    \u001b[0m | \u001b[36mcourses_scheduler.planning\u001b[0m:\u001b[36mbuild_optimizer\u001b[0m:\u001b[36m71\u001b[0m - \u001b[1mStart building optimizer\u001b[0m\n",
      "\u001b[32m2024-09-21 21:03:18.816\u001b[0m | \u001b[1mINFO    \u001b[0m | \u001b[36mcourses_scheduler.planning\u001b[0m:\u001b[36mbuild_options\u001b[0m:\u001b[36m51\u001b[0m - \u001b[1mStart building options\u001b[0m\n",
      "100%|██████████| 1/1 [00:00<00:00, 16448.25it/s]\n",
      "\u001b[32m2024-09-21 21:03:18.818\u001b[0m | \u001b[1mINFO    \u001b[0m | \u001b[36mcourses_scheduler.optimization\u001b[0m:\u001b[36m__init__\u001b[0m:\u001b[36m34\u001b[0m - \u001b[1mStart declaring optimized vars\u001b[0m\n",
      "80it [00:00, 125766.24it/s]\n",
      "\u001b[32m2024-09-21 21:03:18.820\u001b[0m | \u001b[1mINFO    \u001b[0m | \u001b[36mcourses_scheduler.optimization\u001b[0m:\u001b[36m__init__\u001b[0m:\u001b[36m46\u001b[0m - \u001b[1mStart declaring students_discipline equations\u001b[0m\n",
      "100%|██████████| 1/1 [00:00<00:00, 5433.04it/s]\n",
      "\u001b[32m2024-09-21 21:03:18.821\u001b[0m | \u001b[1mINFO    \u001b[0m | \u001b[36mcourses_scheduler.optimization\u001b[0m:\u001b[36m__init__\u001b[0m:\u001b[36m62\u001b[0m - \u001b[1mStart declaring teacher_discipline equations\u001b[0m\n",
      "100%|██████████| 2/2 [00:00<00:00, 9500.12it/s]\n"
     ]
    }
   ],
   "source": [
    "ap = AcademicPlan(\n",
    "    students_workload={s[\"A\"]: {d[\"A\"]: 1}},\n",
    "    teachers_workload={t[\"A\"]: {d[\"A\"]: 1}, t[\"B\"]: {d[\"A\"]: 1}},\n",
    "    available_classrooms={c[1], c[2]},\n",
    "    available_time_slots=ts.values(),\n",
    ")\n",
    "\n",
    "ap.optimizer.model.solve(disp=False)"
   ]
  },
  {
   "cell_type": "code",
   "execution_count": 15,
   "metadata": {},
   "outputs": [
    {
     "data": {
      "text/html": [
       "<div>\n",
       "<style scoped>\n",
       "    .dataframe tbody tr th:only-of-type {\n",
       "        vertical-align: middle;\n",
       "    }\n",
       "\n",
       "    .dataframe tbody tr th {\n",
       "        vertical-align: top;\n",
       "    }\n",
       "\n",
       "    .dataframe thead th {\n",
       "        text-align: right;\n",
       "    }\n",
       "</style>\n",
       "<table border=\"1\" class=\"dataframe\">\n",
       "  <thead>\n",
       "    <tr style=\"text-align: right;\">\n",
       "      <th></th>\n",
       "      <th>time_slot</th>\n",
       "      <th>students</th>\n",
       "      <th>teacher</th>\n",
       "      <th>classroom</th>\n",
       "      <th>discipline</th>\n",
       "    </tr>\n",
       "  </thead>\n",
       "  <tbody>\n",
       "    <tr>\n",
       "      <th>0</th>\n",
       "      <td>0</td>\n",
       "      <td>A</td>\n",
       "      <td>A</td>\n",
       "      <td>2</td>\n",
       "      <td>A</td>\n",
       "    </tr>\n",
       "  </tbody>\n",
       "</table>\n",
       "</div>"
      ],
      "text/plain": [
       "  time_slot students teacher classroom discipline\n",
       "0         0        A       A         2          A"
      ]
     },
     "execution_count": 15,
     "metadata": {},
     "output_type": "execute_result"
    }
   ],
   "source": [
    "df = make_df(ap.optimizer.options, ap.optimizer.choosen_options_idx)\n",
    "df.head()"
   ]
  },
  {
   "cell_type": "markdown",
   "metadata": {},
   "source": [
    "# Несколько дисциплин"
   ]
  },
  {
   "cell_type": "code",
   "execution_count": 16,
   "metadata": {},
   "outputs": [
    {
     "name": "stderr",
     "output_type": "stream",
     "text": [
      "\u001b[32m2024-09-21 21:03:18.901\u001b[0m | \u001b[1mINFO    \u001b[0m | \u001b[36mcourses_scheduler.planning\u001b[0m:\u001b[36mbuild_optimizer\u001b[0m:\u001b[36m71\u001b[0m - \u001b[1mStart building optimizer\u001b[0m\n",
      "\u001b[32m2024-09-21 21:03:18.902\u001b[0m | \u001b[1mINFO    \u001b[0m | \u001b[36mcourses_scheduler.planning\u001b[0m:\u001b[36mbuild_options\u001b[0m:\u001b[36m51\u001b[0m - \u001b[1mStart building options\u001b[0m\n",
      "100%|██████████| 2/2 [00:00<00:00, 54471.48it/s]\n",
      "\u001b[32m2024-09-21 21:03:18.904\u001b[0m | \u001b[1mINFO    \u001b[0m | \u001b[36mcourses_scheduler.optimization\u001b[0m:\u001b[36m__init__\u001b[0m:\u001b[36m34\u001b[0m - \u001b[1mStart declaring optimized vars\u001b[0m\n",
      "80it [00:00, 128315.23it/s]\n",
      "\u001b[32m2024-09-21 21:03:18.906\u001b[0m | \u001b[1mINFO    \u001b[0m | \u001b[36mcourses_scheduler.optimization\u001b[0m:\u001b[36m__init__\u001b[0m:\u001b[36m46\u001b[0m - \u001b[1mStart declaring students_discipline equations\u001b[0m\n",
      "100%|██████████| 2/2 [00:00<00:00, 10082.46it/s]\n",
      "\u001b[32m2024-09-21 21:03:18.907\u001b[0m | \u001b[1mINFO    \u001b[0m | \u001b[36mcourses_scheduler.optimization\u001b[0m:\u001b[36m__init__\u001b[0m:\u001b[36m62\u001b[0m - \u001b[1mStart declaring teacher_discipline equations\u001b[0m\n",
      "100%|██████████| 2/2 [00:00<00:00, 11140.25it/s]\n"
     ]
    }
   ],
   "source": [
    "ap = AcademicPlan(\n",
    "    students_workload={s[\"A\"]: {d[\"A\"]: 1, d[\"B\"]: 1}},\n",
    "    teachers_workload={t[\"A\"]: {d[\"A\"]: 1, d[\"B\"]: 1}},\n",
    "    available_classrooms={c[1], c[2]},\n",
    "    available_time_slots=ts.values(),\n",
    ")\n",
    "\n",
    "ap.optimizer.model.solve(disp=False)"
   ]
  },
  {
   "cell_type": "code",
   "execution_count": 17,
   "metadata": {},
   "outputs": [
    {
     "data": {
      "text/html": [
       "<div>\n",
       "<style scoped>\n",
       "    .dataframe tbody tr th:only-of-type {\n",
       "        vertical-align: middle;\n",
       "    }\n",
       "\n",
       "    .dataframe tbody tr th {\n",
       "        vertical-align: top;\n",
       "    }\n",
       "\n",
       "    .dataframe thead th {\n",
       "        text-align: right;\n",
       "    }\n",
       "</style>\n",
       "<table border=\"1\" class=\"dataframe\">\n",
       "  <thead>\n",
       "    <tr style=\"text-align: right;\">\n",
       "      <th></th>\n",
       "      <th>time_slot</th>\n",
       "      <th>students</th>\n",
       "      <th>teacher</th>\n",
       "      <th>classroom</th>\n",
       "      <th>discipline</th>\n",
       "    </tr>\n",
       "  </thead>\n",
       "  <tbody>\n",
       "    <tr>\n",
       "      <th>0</th>\n",
       "      <td>0</td>\n",
       "      <td>A</td>\n",
       "      <td>A</td>\n",
       "      <td>2</td>\n",
       "      <td>B</td>\n",
       "    </tr>\n",
       "    <tr>\n",
       "      <th>1</th>\n",
       "      <td>0</td>\n",
       "      <td>A</td>\n",
       "      <td>A</td>\n",
       "      <td>2</td>\n",
       "      <td>A</td>\n",
       "    </tr>\n",
       "  </tbody>\n",
       "</table>\n",
       "</div>"
      ],
      "text/plain": [
       "  time_slot students teacher classroom discipline\n",
       "0         0        A       A         2          B\n",
       "1         0        A       A         2          A"
      ]
     },
     "execution_count": 17,
     "metadata": {},
     "output_type": "execute_result"
    }
   ],
   "source": [
    "df = make_df(ap.optimizer.options, ap.optimizer.choosen_options_idx)\n",
    "df.head()"
   ]
  },
  {
   "cell_type": "markdown",
   "metadata": {},
   "source": [
    "# Несколько предметов у разных групп"
   ]
  },
  {
   "cell_type": "code",
   "execution_count": 18,
   "metadata": {},
   "outputs": [
    {
     "name": "stderr",
     "output_type": "stream",
     "text": [
      "\u001b[32m2024-09-21 21:03:18.999\u001b[0m | \u001b[1mINFO    \u001b[0m | \u001b[36mcourses_scheduler.planning\u001b[0m:\u001b[36mbuild_optimizer\u001b[0m:\u001b[36m71\u001b[0m - \u001b[1mStart building optimizer\u001b[0m\n",
      "\u001b[32m2024-09-21 21:03:19.001\u001b[0m | \u001b[1mINFO    \u001b[0m | \u001b[36mcourses_scheduler.planning\u001b[0m:\u001b[36mbuild_options\u001b[0m:\u001b[36m51\u001b[0m - \u001b[1mStart building options\u001b[0m\n",
      "100%|██████████| 2/2 [00:00<00:00, 25811.10it/s]\n",
      "\u001b[32m2024-09-21 21:03:19.004\u001b[0m | \u001b[1mINFO    \u001b[0m | \u001b[36mcourses_scheduler.optimization\u001b[0m:\u001b[36m__init__\u001b[0m:\u001b[36m34\u001b[0m - \u001b[1mStart declaring optimized vars\u001b[0m\n",
      "80it [00:00, 48113.61it/s]\n",
      "\u001b[32m2024-09-21 21:03:19.009\u001b[0m | \u001b[1mINFO    \u001b[0m | \u001b[36mcourses_scheduler.optimization\u001b[0m:\u001b[36m__init__\u001b[0m:\u001b[36m46\u001b[0m - \u001b[1mStart declaring students_discipline equations\u001b[0m\n",
      "100%|██████████| 2/2 [00:00<00:00, 6579.30it/s]\n",
      "\u001b[32m2024-09-21 21:03:19.011\u001b[0m | \u001b[1mINFO    \u001b[0m | \u001b[36mcourses_scheduler.optimization\u001b[0m:\u001b[36m__init__\u001b[0m:\u001b[36m62\u001b[0m - \u001b[1mStart declaring teacher_discipline equations\u001b[0m\n",
      "100%|██████████| 2/2 [00:00<00:00, 9039.45it/s]\n"
     ]
    }
   ],
   "source": [
    "ap = AcademicPlan(\n",
    "    students_workload={s[\"A\"]: {d[\"A\"]: 1}, s[\"B\"]: {d[\"B\"]: 1}},\n",
    "    teachers_workload={t[\"A\"]: {d[\"A\"]: 1, d[\"B\"]: 1}},\n",
    "    available_classrooms={c[1], c[2]},\n",
    "    available_time_slots=ts.values(),\n",
    ")\n",
    "\n",
    "ap.optimizer.model.solve(disp=False)"
   ]
  },
  {
   "cell_type": "code",
   "execution_count": 19,
   "metadata": {},
   "outputs": [
    {
     "data": {
      "text/html": [
       "<div>\n",
       "<style scoped>\n",
       "    .dataframe tbody tr th:only-of-type {\n",
       "        vertical-align: middle;\n",
       "    }\n",
       "\n",
       "    .dataframe tbody tr th {\n",
       "        vertical-align: top;\n",
       "    }\n",
       "\n",
       "    .dataframe thead th {\n",
       "        text-align: right;\n",
       "    }\n",
       "</style>\n",
       "<table border=\"1\" class=\"dataframe\">\n",
       "  <thead>\n",
       "    <tr style=\"text-align: right;\">\n",
       "      <th></th>\n",
       "      <th>time_slot</th>\n",
       "      <th>students</th>\n",
       "      <th>teacher</th>\n",
       "      <th>classroom</th>\n",
       "      <th>discipline</th>\n",
       "    </tr>\n",
       "  </thead>\n",
       "  <tbody>\n",
       "    <tr>\n",
       "      <th>0</th>\n",
       "      <td>0</td>\n",
       "      <td>B</td>\n",
       "      <td>A</td>\n",
       "      <td>2</td>\n",
       "      <td>B</td>\n",
       "    </tr>\n",
       "    <tr>\n",
       "      <th>1</th>\n",
       "      <td>0</td>\n",
       "      <td>A</td>\n",
       "      <td>A</td>\n",
       "      <td>2</td>\n",
       "      <td>A</td>\n",
       "    </tr>\n",
       "  </tbody>\n",
       "</table>\n",
       "</div>"
      ],
      "text/plain": [
       "  time_slot students teacher classroom discipline\n",
       "0         0        B       A         2          B\n",
       "1         0        A       A         2          A"
      ]
     },
     "execution_count": 19,
     "metadata": {},
     "output_type": "execute_result"
    }
   ],
   "source": [
    "df = make_df(ap.optimizer.options, ap.optimizer.choosen_options_idx)\n",
    "df.head()"
   ]
  },
  {
   "cell_type": "markdown",
   "metadata": {},
   "source": [
    "# Нехватка ресурсов"
   ]
  },
  {
   "cell_type": "code",
   "execution_count": 20,
   "metadata": {},
   "outputs": [
    {
     "name": "stderr",
     "output_type": "stream",
     "text": [
      "\u001b[32m2024-09-21 21:03:19.100\u001b[0m | \u001b[1mINFO    \u001b[0m | \u001b[36mcourses_scheduler.planning\u001b[0m:\u001b[36mbuild_optimizer\u001b[0m:\u001b[36m71\u001b[0m - \u001b[1mStart building optimizer\u001b[0m\n",
      "\u001b[32m2024-09-21 21:03:19.101\u001b[0m | \u001b[1mINFO    \u001b[0m | \u001b[36mcourses_scheduler.planning\u001b[0m:\u001b[36mbuild_options\u001b[0m:\u001b[36m51\u001b[0m - \u001b[1mStart building options\u001b[0m\n",
      "100%|██████████| 1/1 [00:00<00:00, 18808.54it/s]\n",
      "\u001b[32m2024-09-21 21:03:19.103\u001b[0m | \u001b[1mINFO    \u001b[0m | \u001b[36mcourses_scheduler.optimization\u001b[0m:\u001b[36m__init__\u001b[0m:\u001b[36m34\u001b[0m - \u001b[1mStart declaring optimized vars\u001b[0m\n",
      "40it [00:00, 73262.95it/s]\n",
      "\u001b[32m2024-09-21 21:03:19.104\u001b[0m | \u001b[1mINFO    \u001b[0m | \u001b[36mcourses_scheduler.optimization\u001b[0m:\u001b[36m__init__\u001b[0m:\u001b[36m46\u001b[0m - \u001b[1mStart declaring students_discipline equations\u001b[0m\n",
      "100%|██████████| 1/1 [00:00<00:00, 3938.31it/s]\n",
      "\u001b[32m2024-09-21 21:03:19.107\u001b[0m | \u001b[1mINFO    \u001b[0m | \u001b[36mcourses_scheduler.optimization\u001b[0m:\u001b[36m__init__\u001b[0m:\u001b[36m62\u001b[0m - \u001b[1mStart declaring teacher_discipline equations\u001b[0m\n",
      "100%|██████████| 1/1 [00:00<00:00, 2690.38it/s]\n"
     ]
    },
    {
     "ename": "Exception",
     "evalue": "@error: Solution Not Found\n",
     "output_type": "error",
     "traceback": [
      "\u001b[0;31m---------------------------------------------------------------------------\u001b[0m",
      "\u001b[0;31mException\u001b[0m                                 Traceback (most recent call last)",
      "Cell \u001b[0;32mIn[20], line 8\u001b[0m\n\u001b[1;32m      1\u001b[0m ap \u001b[38;5;241m=\u001b[39m AcademicPlan(\n\u001b[1;32m      2\u001b[0m     students_workload\u001b[38;5;241m=\u001b[39m{s[\u001b[38;5;124m\"\u001b[39m\u001b[38;5;124mA\u001b[39m\u001b[38;5;124m\"\u001b[39m]: {d[\u001b[38;5;124m\"\u001b[39m\u001b[38;5;124mA\u001b[39m\u001b[38;5;124m\"\u001b[39m]: \u001b[38;5;241m2\u001b[39m}},\n\u001b[1;32m      3\u001b[0m     teachers_workload\u001b[38;5;241m=\u001b[39m{t[\u001b[38;5;124m\"\u001b[39m\u001b[38;5;124mA\u001b[39m\u001b[38;5;124m\"\u001b[39m]: {d[\u001b[38;5;124m\"\u001b[39m\u001b[38;5;124mA\u001b[39m\u001b[38;5;124m\"\u001b[39m]: \u001b[38;5;241m1\u001b[39m}},\n\u001b[1;32m      4\u001b[0m     available_classrooms\u001b[38;5;241m=\u001b[39m{c[\u001b[38;5;241m1\u001b[39m], c[\u001b[38;5;241m2\u001b[39m]},\n\u001b[1;32m      5\u001b[0m     available_time_slots\u001b[38;5;241m=\u001b[39mts\u001b[38;5;241m.\u001b[39mvalues(),\n\u001b[1;32m      6\u001b[0m )\n\u001b[0;32m----> 8\u001b[0m \u001b[43map\u001b[49m\u001b[38;5;241;43m.\u001b[39;49m\u001b[43moptimizer\u001b[49m\u001b[38;5;241;43m.\u001b[39;49m\u001b[43mmodel\u001b[49m\u001b[38;5;241;43m.\u001b[39;49m\u001b[43msolve\u001b[49m\u001b[43m(\u001b[49m\u001b[43mdisp\u001b[49m\u001b[38;5;241;43m=\u001b[39;49m\u001b[38;5;28;43;01mFalse\u001b[39;49;00m\u001b[43m)\u001b[49m\n",
      "File \u001b[0;32m~/local-repo/courses_scheduler/.venv/lib/python3.11/site-packages/gekko/gekko.py:2169\u001b[0m, in \u001b[0;36mGEKKO.solve\u001b[0;34m(self, disp, debug, GUI, **kwargs)\u001b[0m\n\u001b[1;32m   2167\u001b[0m         \u001b[38;5;28mprint\u001b[39m(\u001b[38;5;124m\"\u001b[39m\u001b[38;5;124mError:\u001b[39m\u001b[38;5;124m\"\u001b[39m, errs)\n\u001b[1;32m   2168\u001b[0m     \u001b[38;5;28;01mif\u001b[39;00m (debug \u001b[38;5;241m>\u001b[39m\u001b[38;5;241m=\u001b[39m \u001b[38;5;241m1\u001b[39m) \u001b[38;5;129;01mand\u001b[39;00m record_error:\n\u001b[0;32m-> 2169\u001b[0m         \u001b[38;5;28;01mraise\u001b[39;00m \u001b[38;5;167;01mException\u001b[39;00m(apm_error)\n\u001b[1;32m   2170\u001b[0m \u001b[38;5;28;01melse\u001b[39;00m: \u001b[38;5;66;03m#solve on APM server\u001b[39;00m\n\u001b[1;32m   2171\u001b[0m     \u001b[38;5;28;01mdef\u001b[39;00m \u001b[38;5;21msend_if_exists\u001b[39m(extension):\n",
      "\u001b[0;31mException\u001b[0m: @error: Solution Not Found\n"
     ]
    }
   ],
   "source": [
    "ap = AcademicPlan(\n",
    "    students_workload={s[\"A\"]: {d[\"A\"]: 2}},\n",
    "    teachers_workload={t[\"A\"]: {d[\"A\"]: 1}},\n",
    "    available_classrooms={c[1], c[2]},\n",
    "    available_time_slots=ts.values(),\n",
    ")\n",
    "\n",
    "ap.optimizer.model.solve(disp=False)"
   ]
  },
  {
   "cell_type": "markdown",
   "metadata": {},
   "source": [
    "# Большие объемы"
   ]
  },
  {
   "cell_type": "code",
   "execution_count": 30,
   "metadata": {},
   "outputs": [],
   "source": [
    "ts_large = {\n",
    "    k: TimeSlot(date_from=k)\n",
    "    for k in range(50)\n",
    "}"
   ]
  },
  {
   "cell_type": "code",
   "execution_count": 33,
   "metadata": {},
   "outputs": [
    {
     "name": "stderr",
     "output_type": "stream",
     "text": [
      "\u001b[32m2024-09-21 21:07:16.520\u001b[0m | \u001b[1mINFO    \u001b[0m | \u001b[36mcourses_scheduler.planning\u001b[0m:\u001b[36mbuild_optimizer\u001b[0m:\u001b[36m71\u001b[0m - \u001b[1mStart building optimizer\u001b[0m\n",
      "\u001b[32m2024-09-21 21:07:16.522\u001b[0m | \u001b[1mINFO    \u001b[0m | \u001b[36mcourses_scheduler.planning\u001b[0m:\u001b[36mbuild_options\u001b[0m:\u001b[36m51\u001b[0m - \u001b[1mStart building options\u001b[0m\n",
      "100%|██████████| 7/7 [00:00<00:00, 6270.85it/s]\n",
      "\u001b[32m2024-09-21 21:07:16.534\u001b[0m | \u001b[1mINFO    \u001b[0m | \u001b[36mcourses_scheduler.optimization\u001b[0m:\u001b[36m__init__\u001b[0m:\u001b[36m34\u001b[0m - \u001b[1mStart declaring optimized vars\u001b[0m\n",
      "2450it [00:00, 75608.63it/s]\n",
      "\u001b[32m2024-09-21 21:07:16.575\u001b[0m | \u001b[1mINFO    \u001b[0m | \u001b[36mcourses_scheduler.optimization\u001b[0m:\u001b[36m__init__\u001b[0m:\u001b[36m46\u001b[0m - \u001b[1mStart declaring students_discipline equations\u001b[0m\n",
      "100%|██████████| 7/7 [00:00<00:00, 229.80it/s]\n",
      "\u001b[32m2024-09-21 21:07:16.612\u001b[0m | \u001b[1mINFO    \u001b[0m | \u001b[36mcourses_scheduler.optimization\u001b[0m:\u001b[36m__init__\u001b[0m:\u001b[36m62\u001b[0m - \u001b[1mStart declaring teacher_discipline equations\u001b[0m\n",
      "100%|██████████| 49/49 [00:00<00:00, 1683.74it/s]\n"
     ]
    },
    {
     "name": "stdout",
     "output_type": "stream",
     "text": [
      "CPU times: user 206 ms, sys: 5.02 ms, total: 211 ms\n",
      "Wall time: 208 ms\n"
     ]
    }
   ],
   "source": [
    "%%time\n",
    "ap = AcademicPlan(\n",
    "    students_workload={s[\"A\"]: {d_i: 4 for d_i in d.values()}},\n",
    "    teachers_workload={t_i: {d_i: 2 for d_i in d.values()} for t_i in t.values()},\n",
    "    available_classrooms={c[1]},\n",
    "    available_time_slots=ts_large.values(),\n",
    ")"
   ]
  },
  {
   "cell_type": "code",
   "execution_count": 34,
   "metadata": {},
   "outputs": [
    {
     "name": "stdout",
     "output_type": "stream",
     "text": [
      " ----------------------------------------------------------------\n",
      " APMonitor, Version 1.0.3\n",
      " APMonitor Optimization Suite\n",
      " ----------------------------------------------------------------\n",
      " \n",
      " \n",
      " --------- APM Model Size ------------\n",
      " Each time step contains\n",
      "   Objects      :           58\n",
      "   Constants    :            0\n",
      "   Variables    :         5007\n",
      "   Intermediates:            0\n",
      "   Connections  :         9858\n",
      "   Equations    :         2507\n",
      "   Residuals    :         2507\n",
      " \n",
      " Reduction analysis complete\n",
      " Eliminated           49  of         5007  variables\n",
      " Eliminated           49  of         2564  equations\n",
      " Number of state variables:           4958\n",
      " Number of total equations: -         2515\n",
      " Number of slack variables: -           49\n",
      " ---------------------------------------\n",
      " Degrees of freedom       :           2394\n",
      " \n",
      " ----------------------------------------------\n",
      " Steady State Optimization with APOPT Solver\n",
      " ----------------------------------------------\n",
      "Iter:     1 I:  0 Tm:      0.05 NLPi:    4 Dpth:    0 Lvs:    3 Obj:  2.60E+01 Gap:       NaN\n",
      "--Integer Solution:   2.60E+01 Lowest Leaf:   2.60E+01 Gap:   0.00E+00\n",
      "Iter:     2 I:  0 Tm:      0.01 NLPi:    2 Dpth:    1 Lvs:    3 Obj:  2.60E+01 Gap:  0.00E+00\n",
      " Successful solution\n",
      " \n",
      " ---------------------------------------------------\n",
      " Solver         :  APOPT (v1.0)\n",
      " Solution time  :   8.019999999669380E-002 sec\n",
      " Objective      :    26.0000000100000     \n",
      " Successful solution\n",
      " ---------------------------------------------------\n",
      " \n",
      "\n",
      "v2865 not found in results file\n",
      "v2866 not found in results file\n",
      "v2867 not found in results file\n",
      "v2868 not found in results file\n",
      "v2869 not found in results file\n",
      "v2870 not found in results file\n",
      "v2871 not found in results file\n",
      "v3215 not found in results file\n",
      "v3216 not found in results file\n",
      "v3217 not found in results file\n",
      "v3218 not found in results file\n",
      "v3219 not found in results file\n",
      "v3220 not found in results file\n",
      "v3221 not found in results file\n",
      "v3565 not found in results file\n",
      "v3566 not found in results file\n",
      "v3567 not found in results file\n",
      "v3568 not found in results file\n",
      "v3569 not found in results file\n",
      "v3570 not found in results file\n",
      "v3571 not found in results file\n",
      "v3915 not found in results file\n",
      "v3916 not found in results file\n",
      "v3917 not found in results file\n",
      "v3918 not found in results file\n",
      "v3919 not found in results file\n",
      "v3920 not found in results file\n",
      "v3921 not found in results file\n",
      "v4265 not found in results file\n",
      "v4266 not found in results file\n",
      "v4267 not found in results file\n",
      "v4268 not found in results file\n",
      "v4269 not found in results file\n",
      "v4270 not found in results file\n",
      "v4271 not found in results file\n",
      "v4615 not found in results file\n",
      "v4616 not found in results file\n",
      "v4617 not found in results file\n",
      "v4618 not found in results file\n",
      "v4619 not found in results file\n",
      "v4620 not found in results file\n",
      "v4621 not found in results file\n",
      "CPU times: user 127 ms, sys: 4.03 ms, total: 131 ms\n",
      "Wall time: 11.6 s\n"
     ]
    }
   ],
   "source": [
    "%%time\n",
    "ap.optimizer.model.solve(disp=True, debug=False)"
   ]
  },
  {
   "cell_type": "code",
   "execution_count": 35,
   "metadata": {},
   "outputs": [
    {
     "data": {
      "text/html": [
       "<div>\n",
       "<style scoped>\n",
       "    .dataframe tbody tr th:only-of-type {\n",
       "        vertical-align: middle;\n",
       "    }\n",
       "\n",
       "    .dataframe tbody tr th {\n",
       "        vertical-align: top;\n",
       "    }\n",
       "\n",
       "    .dataframe thead th {\n",
       "        text-align: right;\n",
       "    }\n",
       "</style>\n",
       "<table border=\"1\" class=\"dataframe\">\n",
       "  <thead>\n",
       "    <tr style=\"text-align: right;\">\n",
       "      <th></th>\n",
       "      <th>time_slot</th>\n",
       "      <th>students</th>\n",
       "      <th>teacher</th>\n",
       "      <th>classroom</th>\n",
       "      <th>discipline</th>\n",
       "    </tr>\n",
       "  </thead>\n",
       "  <tbody>\n",
       "    <tr>\n",
       "      <th>0</th>\n",
       "      <td>0</td>\n",
       "      <td>A</td>\n",
       "      <td>A</td>\n",
       "      <td>1</td>\n",
       "      <td>F</td>\n",
       "    </tr>\n",
       "    <tr>\n",
       "      <th>1</th>\n",
       "      <td>0</td>\n",
       "      <td>A</td>\n",
       "      <td>B</td>\n",
       "      <td>1</td>\n",
       "      <td>F</td>\n",
       "    </tr>\n",
       "    <tr>\n",
       "      <th>2</th>\n",
       "      <td>0</td>\n",
       "      <td>A</td>\n",
       "      <td>C</td>\n",
       "      <td>1</td>\n",
       "      <td>F</td>\n",
       "    </tr>\n",
       "    <tr>\n",
       "      <th>3</th>\n",
       "      <td>0</td>\n",
       "      <td>A</td>\n",
       "      <td>D</td>\n",
       "      <td>1</td>\n",
       "      <td>F</td>\n",
       "    </tr>\n",
       "    <tr>\n",
       "      <th>4</th>\n",
       "      <td>0</td>\n",
       "      <td>A</td>\n",
       "      <td>A</td>\n",
       "      <td>1</td>\n",
       "      <td>G</td>\n",
       "    </tr>\n",
       "  </tbody>\n",
       "</table>\n",
       "</div>"
      ],
      "text/plain": [
       "  time_slot students teacher classroom discipline\n",
       "0         0        A       A         1          F\n",
       "1         0        A       B         1          F\n",
       "2         0        A       C         1          F\n",
       "3         0        A       D         1          F\n",
       "4         0        A       A         1          G"
      ]
     },
     "execution_count": 35,
     "metadata": {},
     "output_type": "execute_result"
    }
   ],
   "source": [
    "df = make_df(ap.optimizer.options, ap.optimizer.choosen_options_idx)\n",
    "df.head()"
   ]
  },
  {
   "cell_type": "code",
   "execution_count": 37,
   "metadata": {},
   "outputs": [
    {
     "data": {
      "text/plain": [
       "teacher  discipline\n",
       "A        A             1\n",
       "         B             1\n",
       "         C             1\n",
       "         D             1\n",
       "         E             1\n",
       "         F             1\n",
       "         G             1\n",
       "B        A             1\n",
       "         B             1\n",
       "         C             1\n",
       "         D             1\n",
       "         E             1\n",
       "         F             1\n",
       "         G             1\n",
       "C        A             1\n",
       "         B             1\n",
       "         C             1\n",
       "         D             1\n",
       "         E             1\n",
       "         F             1\n",
       "         G             1\n",
       "D        A             1\n",
       "         B             1\n",
       "         C             1\n",
       "         D             1\n",
       "         E             1\n",
       "         F             1\n",
       "         G             1\n",
       "Name: count, dtype: int64"
      ]
     },
     "execution_count": 37,
     "metadata": {},
     "output_type": "execute_result"
    }
   ],
   "source": [
    "df.value_counts([\"teacher\", \"discipline\"])"
   ]
  },
  {
   "cell_type": "code",
   "execution_count": 24,
   "metadata": {},
   "outputs": [
    {
     "name": "stdout",
     "output_type": "stream",
     "text": [
      "tmp3prjsjopgk_model6\n",
      "tmpivb4li68gk_model2\n",
      "tmpx3f_0wuvgk_model3\n",
      "tmpgngh40a4gk_model0\n",
      "tmp25k6_irlgk_model1\n",
      "tmpl75fnymggk_model4\n",
      "tmppyz8dprsgk_model5\n"
     ]
    }
   ],
   "source": [
    "import os\n",
    "import shutil\n",
    "\n",
    "tmp_dir = '/tmp'\n",
    "for folder in os.listdir(tmp_dir):\n",
    "    if 'gk_model' in folder:\n",
    "        print(folder)\n",
    "        shutil.rmtree(os.path.join(tmp_dir, folder))"
   ]
  },
  {
   "cell_type": "code",
   "execution_count": null,
   "metadata": {},
   "outputs": [],
   "source": []
  }
 ],
 "metadata": {
  "kernelspec": {
   "display_name": ".venv",
   "language": "python",
   "name": "python3"
  },
  "language_info": {
   "codemirror_mode": {
    "name": "ipython",
    "version": 3
   },
   "file_extension": ".py",
   "mimetype": "text/x-python",
   "name": "python",
   "nbconvert_exporter": "python",
   "pygments_lexer": "ipython3",
   "version": "3.11.8"
  }
 },
 "nbformat": 4,
 "nbformat_minor": 2
}
